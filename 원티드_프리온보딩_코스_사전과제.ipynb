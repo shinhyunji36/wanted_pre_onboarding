{
  "nbformat": 4,
  "nbformat_minor": 0,
  "metadata": {
    "colab": {
      "name": "원티드 프리온보딩 코스 사전과제.ipynb",
      "provenance": [],
      "collapsed_sections": []
    },
    "kernelspec": {
      "name": "python3",
      "display_name": "Python 3"
    },
    "language_info": {
      "name": "python"
    }
  },
  "cells": [
    {
      "cell_type": "markdown",
      "source": [
        "#**원티드 프리온보딩 AI/ML 코스 사전과제**"
      ],
      "metadata": {
        "id": "bdzN7aRpFJs5"
      }
    },
    {
      "cell_type": "markdown",
      "source": [
        "###**문제 1) Tokenizer 생성하기**"
      ],
      "metadata": {
        "id": "fgSzJdmCae1z"
      }
    },
    {
      "cell_type": "code",
      "execution_count": 1,
      "metadata": {
        "id": "8YSt8w6VYkWg"
      },
      "outputs": [],
      "source": [
        "class Tokenizer():\n",
        "  def __init__(self):\n",
        "    self.word_dict = {'oov': 0}\n",
        "    self.fit_checker = False\n",
        "  \n",
        "  def preprocessing(self, sequences):\n",
        "    result = []\n",
        "    '''\n",
        "    문제 1-1.\n",
        "    '''\n",
        "    import re\n",
        "    for sent in sequences:\n",
        "      sent = re.sub('[^0-9a-zA-Z ]','', sent)\n",
        "      sent = sent.lower()\n",
        "      tokens = sent.split()\n",
        "      result.append(tokens)\n",
        "    return result\n",
        "  \n",
        "  def fit(self, sequences):\n",
        "    self.fit_checker = False\n",
        "    '''\n",
        "    문제 1-2.\n",
        "    '''\n",
        "    tokens = self.preprocessing(sequences)\n",
        "    idx = 0\n",
        "    for token in tokens:\n",
        "      for word in token:\n",
        "        if word not in self.word_dict:\n",
        "          idx += 1\n",
        "          self.word_dict[word] = idx\n",
        "    self.fit_checker = True\n",
        "  \n",
        "  def transform(self, sequences):\n",
        "    result = []\n",
        "    tokens = self.preprocessing(sequences)\n",
        "    if self.fit_checker:\n",
        "      '''\n",
        "      문제 1-3.\n",
        "      '''\n",
        "      for token in tokens:\n",
        "        temp = []\n",
        "        for word in token:\n",
        "          try: \n",
        "            temp.append(self.word_dict[word])\n",
        "          except:\n",
        "            temp.append(self.word_dict['oov'])\n",
        "        result.append(temp)\n",
        "      return result\n",
        "    else:\n",
        "      raise Exception(\"Tokenizer instance is not fitted yet.\")\n",
        "      \n",
        "  def fit_transform(self, sequences):\n",
        "    self.fit(sequences)\n",
        "    result = self.transform(sequences)\n",
        "    return result"
      ]
    },
    {
      "cell_type": "code",
      "source": [
        "# Test\n",
        "tokenizer = Tokenizer()\n",
        "input = ['I go to school.', 'I LIKE pizza!']\n",
        "\n",
        "# 1-1\n",
        "print(\"===1-1. preprocessing()===\")\n",
        "print(tokenizer.preprocessing(input))\n",
        "\n",
        "print(\"\\n\")\n",
        "\n",
        "# 1-2\n",
        "print(\"===1-2. fit()===\")\n",
        "tokenizer.fit(input)\n",
        "print(tokenizer.word_dict)\n",
        "\n",
        "print(\"\\n\")\n",
        "\n",
        "# 1-3\n",
        "print(\"===1-3. transform()===\")\n",
        "input2 = ['I go to school.', 'I LIKE pizza!', 'I want to be a DS!!']\n",
        "print(tokenizer.transform(input2))"
      ],
      "metadata": {
        "colab": {
          "base_uri": "https://localhost:8080/"
        },
        "id": "xwPncSt6Imq2",
        "outputId": "17862891-643c-4cd5-eb8e-d080568da209"
      },
      "execution_count": 2,
      "outputs": [
        {
          "output_type": "stream",
          "name": "stdout",
          "text": [
            "===1-1. preprocessing()===\n",
            "[['i', 'go', 'to', 'school'], ['i', 'like', 'pizza']]\n",
            "\n",
            "\n",
            "===1-2. fit()===\n",
            "{'oov': 0, 'i': 1, 'go': 2, 'to': 3, 'school': 4, 'like': 5, 'pizza': 6}\n",
            "\n",
            "\n",
            "===1-3. transform()===\n",
            "[[1, 2, 3, 4], [1, 5, 6], [1, 0, 3, 0, 0, 0]]\n"
          ]
        }
      ]
    },
    {
      "cell_type": "markdown",
      "source": [
        "###**문제 2) TfidfVectorizer 생성하기**"
      ],
      "metadata": {
        "id": "cfsbfrPfMcmu"
      }
    },
    {
      "cell_type": "code",
      "source": [
        "class TfidfVectorizer:\n",
        "  def __init__(self, tokenizer):\n",
        "    self.tokenizer = tokenizer\n",
        "    self.fit_checker = False\n",
        "\n",
        "  \n",
        "  def fit(self, sequences):\n",
        "    tokenized = self.tokenizer.fit_transform(sequences) #[[1, 2, 3, 4], [1, 5, 6]]\n",
        "    '''\n",
        "    문제 2-1.\n",
        "    '''\n",
        "    from math import log\n",
        "\n",
        "    n = len(tokenized) #입력된 전체 문장의 개수\n",
        "    vocab = list(set(word for tokens in tokenized for word in tokens)) #입력된 문장의 vocab\n",
        "    self.idf_matrix= [] #리스트 형태\n",
        "\n",
        "    for i in range(len(vocab)):\n",
        "      df = 0  #특정 단어가 포함된 문장의 개수\n",
        "      for token in tokenized:\n",
        "        df += vocab[i] in token\n",
        "      idf = log(n/(df+1))\n",
        "      self.idf_matrix.append(idf)\n",
        "\n",
        "    self.fit_checker = True\n",
        "    \n",
        "\n",
        "  def transform(self, sequences):\n",
        "    if self.fit_checker:\n",
        "      tokenized = self.tokenizer.transform(sequences)\n",
        "      '''\n",
        "      문제 2-2.\n",
        "      '''\n",
        "      n =len(tokenized)\n",
        "      vocab = list(set(word for tokens in tokenized for word in tokens))\n",
        "      self.tf_matrix = []\n",
        "      self.tfidf_matrix = []\n",
        "\n",
        "      # tf 행렬\n",
        "      for i in range(n):\n",
        "        self.tf_matrix.append([])\n",
        "        d = tokenized[i]\n",
        "        for j in range(len(vocab)):\n",
        "          t = vocab[j]\n",
        "          tf = d.count(t)\n",
        "          self.tf_matrix[-1].append(tf)\n",
        "      \n",
        "      # tfidf 행렬\n",
        "      for i in range(n):\n",
        "        self.tfidf_matrix.append([])\n",
        "        d = tokenized[i]\n",
        "        for j in range(len(vocab)):\n",
        "          tfidf = self.tf_matrix[i][j] * self.idf_matrix[j]\n",
        "          self.tfidf_matrix[-1].append(tfidf)\n",
        "\n",
        "      return self.tfidf_matrix\n",
        "    else:\n",
        "      raise Exception(\"TfidfVectorizer instance is not fitted yet.\")\n",
        "\n",
        "  \n",
        "  def fit_transform(self, sequences):\n",
        "    self.fit(sequences)\n",
        "    return self.transform(sequences)"
      ],
      "metadata": {
        "id": "fPZYmc4STrb-"
      },
      "execution_count": 3,
      "outputs": []
    },
    {
      "cell_type": "code",
      "source": [
        "# Test\n",
        "tfidf = TfidfVectorizer(tokenizer)\n",
        "\n",
        "# 1-1\n",
        "print(\"===2-1. fit()===\")\n",
        "tfidf.fit(input)\n",
        "print(tfidf.idf_matrix)\n",
        "print(\"\\n\")\n",
        "\n",
        "# 1-2\n",
        "print(\"===2-2. transform()===\")\n",
        "tfidf.transform(input)\n",
        "print(tfidf.tfidf_matrix)\n"
      ],
      "metadata": {
        "colab": {
          "base_uri": "https://localhost:8080/"
        },
        "id": "rQTa0idaIoHi",
        "outputId": "87916b5d-45b6-4c27-ab24-ca9ab78c6a87"
      },
      "execution_count": 4,
      "outputs": [
        {
          "output_type": "stream",
          "name": "stdout",
          "text": [
            "===2-1. fit()===\n",
            "[-0.40546510810816444, 0.0, 0.0, 0.0, 0.0, 0.0]\n",
            "\n",
            "\n",
            "===2-2. transform()===\n",
            "[[-0.40546510810816444, 0.0, 0.0, 0.0, 0.0, 0.0], [-0.40546510810816444, 0.0, 0.0, 0.0, 0.0, 0.0]]\n"
          ]
        }
      ]
    }
  ]
}