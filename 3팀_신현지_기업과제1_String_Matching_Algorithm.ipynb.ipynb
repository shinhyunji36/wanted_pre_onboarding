{
  "nbformat": 4,
  "nbformat_minor": 0,
  "metadata": {
    "colab": {
      "name": "(3팀_신현지)-문자열 매칭 알고리즘(기업과제1)(1차 제출).ipynb",
      "provenance": [],
      "collapsed_sections": []
    },
    "kernelspec": {
      "name": "python3",
      "display_name": "Python 3"
    },
    "language_info": {
      "name": "python"
    }
  },
  "cells": [
    {
      "cell_type": "markdown",
      "source": [
        "# **문자열 매칭 알고리즘 (기업과제 1)**"
      ],
      "metadata": {
        "id": "zLzEkmCFVAEM"
      }
    },
    {
      "cell_type": "markdown",
      "source": [
        "- 입력\n",
        "    - example\n",
        "    ```\n",
        "    9(문자열 집합S의 원소 개수)\n",
        "    \"aaa\",\"\"aaaabb\", \"\"aabbcc\", \"abb\", \"bcc\", \"bbcc\", \"aabbccdd\", \"aaabb”, “cccd”\n",
        "    (comma, new line 구분은 자유)\n",
        "    1(매칭 대상 문자열 수)\n",
        "    \"aaaabbaabbccdd\"\n",
        "    ```\n",
        "    - 첫째 줄에 집합 S의 크기 N이 주어진다. (1 ≤ N ≤ 1000)\n",
        "    - 다음 N개 줄에 집합 S의 원소들이 주어진다. 이 문자열의 길이는 100을 넘지 않는다.\n",
        "    - 다음 줄에 답을 판별해야 하는 문자열의 개수 Q가 주어진다. (1 ≤ Q ≤ 1000)\n",
        "    - 다음 Q개 줄에 답을 판별해야 하는 문자열이 주어진다. 이 문자열의 길이는 10000을 넘지 않는다.\n",
        "    - 입력으로 주어지는 모든 문자열은 알파벳 소문자로만 이루어져 있다."
      ],
      "metadata": {
        "id": "UzV30NfQgvEj"
      }
    },
    {
      "cell_type": "markdown",
      "source": [
        "- 출력\n",
        "    - Q개 줄에 각 문자열에 대한 답을 출력한다.\n",
        "    - 출력형식은 무관하다.\n",
        "\n",
        "\n",
        "\n"
      ],
      "metadata": {
        "id": "9AuF9QAyhHkK"
      }
    },
    {
      "cell_type": "code",
      "source": [
        "# example\n",
        "\n",
        "S = {'aaa', 'aaaabb', 'aabbcc', 'abb', 'bcc', 'bbcc', 'aabbccdd', 'aaabb', 'cccd'}\n",
        "P = \"aaaabbaabbccdd\""
      ],
      "metadata": {
        "id": "gDVAFLxZb1v0"
      },
      "execution_count": 6,
      "outputs": []
    },
    {
      "cell_type": "markdown",
      "source": [
        "### **1. 문자열의 여러 부분 문자열 중 하나라도 집합 S에 있으면, `YES`를 출력하고, 아무것도 없으면 `NO`를 출력한다.**"
      ],
      "metadata": {
        "id": "nRdVq56-XlO-"
      }
    },
    {
      "cell_type": "code",
      "source": [
        "def yes_or_no(S,P):\n",
        "    for pat in S:\n",
        "        if pat in P:\n",
        "            print(pat, 'YES')\n",
        "\n",
        "        else:\n",
        "            print(pat, 'NO')"
      ],
      "metadata": {
        "id": "jmOlvrvuXkRT"
      },
      "execution_count": 11,
      "outputs": []
    },
    {
      "cell_type": "code",
      "source": [
        "yes_or_no(S,P)"
      ],
      "metadata": {
        "colab": {
          "base_uri": "https://localhost:8080/"
        },
        "id": "EXGsyPUmPhcn",
        "outputId": "fcbf8ce8-f93e-4ff7-b5e6-62cf24cff408"
      },
      "execution_count": 12,
      "outputs": [
        {
          "output_type": "stream",
          "name": "stdout",
          "text": [
            "aabbcc YES\n",
            "aaa YES\n",
            "aaabb YES\n",
            "abb YES\n",
            "aaaabb YES\n",
            "bbcc YES\n",
            "cccd NO\n",
            "aabbccdd YES\n",
            "bcc YES\n"
          ]
        }
      ]
    },
    {
      "cell_type": "code",
      "source": [
        "# 1번 예시 출력\n",
        "\n",
        "'''\n",
        " YES, YES, YES, YES, YES, YES, YES, YES, NO\n",
        "'''"
      ],
      "metadata": {
        "id": "bQKGqpYnB7mh"
      },
      "execution_count": null,
      "outputs": []
    },
    {
      "cell_type": "markdown",
      "source": [
        "### **2. 주어진 문자열의 여러 부분 문자열 중, 처음 매칭된 패턴과 문자열 시작 포지션을 출력한다.**"
      ],
      "metadata": {
        "id": "tVjA5az6X0Mi"
      }
    },
    {
      "cell_type": "code",
      "source": [
        "import re\n",
        "def first_match(S, P):\n",
        "    for pat in S:\n",
        "        match = re.search(pat, P)\n",
        "        if match is not None:\n",
        "            print(\"#pos = \", match.start(), \", pattern = \", pat)"
      ],
      "metadata": {
        "id": "7jEEsmCZXYr4"
      },
      "execution_count": 13,
      "outputs": []
    },
    {
      "cell_type": "code",
      "source": [
        "first_match(S,P)"
      ],
      "metadata": {
        "colab": {
          "base_uri": "https://localhost:8080/"
        },
        "id": "DVWngbAcPq5e",
        "outputId": "f0381894-29ab-42e4-c0ad-c71c9fee8500"
      },
      "execution_count": 14,
      "outputs": [
        {
          "output_type": "stream",
          "name": "stdout",
          "text": [
            "#pos =  6 , pattern =  aabbcc\n",
            "#pos =  0 , pattern =  aaa\n",
            "#pos =  1 , pattern =  aaabb\n",
            "#pos =  3 , pattern =  abb\n",
            "#pos =  0 , pattern =  aaaabb\n",
            "#pos =  8 , pattern =  bbcc\n",
            "#pos =  6 , pattern =  aabbccdd\n",
            "#pos =  9 , pattern =  bcc\n"
          ]
        }
      ]
    },
    {
      "cell_type": "code",
      "source": [
        "# 2번 문제 예시 출력\n",
        "'''\n",
        "  #pos = 0, pattern = aaa\n",
        "  #pos = 0, pattern = aaaabb\n",
        "  #pos = 6, pattern = aabbcc\n",
        "  #pos = 3, pattern = abb\n",
        "  #pos = 9, pattern = bcc\n",
        "  #pos = 8, pattern = bbcc\n",
        "  #pos = 6, pattern = aabbccdd\n",
        "  #pos = 1, pattern = aaabb\n",
        "'''"
      ],
      "metadata": {
        "id": "t_e6DfypOsxP"
      },
      "execution_count": null,
      "outputs": []
    },
    {
      "cell_type": "markdown",
      "source": [
        "### **3. 주어진 문자열의 여러 부분 문자열 중, 매칭 가능한 모든 패턴과 문자열 시작 포지션을 출력한다.**"
      ],
      "metadata": {
        "id": "pvkUw18sX0ZQ"
      }
    },
    {
      "cell_type": "code",
      "source": [
        "def KMPSearch(pat, txt):\n",
        "    M = len(pat)\n",
        "    N = len(txt)\n",
        "\n",
        "    lps = [0]*M\n",
        "\n",
        "    computeLPS(pat, lps)\n",
        "\n",
        "    i = 0  # index for txt[]\n",
        "    j = 0  # index for pat[]\n",
        "    while i < N:\n",
        "        # 문자열이 같은 경우 양쪽 인덱스를 모두 증가시킴\n",
        "        if pat[j] == txt[i]:\n",
        "            i += 1\n",
        "            j += 1\n",
        "\n",
        "        # Pattern을 찾지 못한 경우\n",
        "        elif pat[j] != txt[i]:\n",
        "\n",
        "            # j!=0인 경우는 짧은 lps에 대해 재검사\n",
        "            if j != 0:\n",
        "                j = lps[j-1]\n",
        "\n",
        "            # j==0이면 일치하는 부분이 없으므로 인덱스 증가\n",
        "            else:\n",
        "                i += 1\n",
        "\n",
        "        # Pattern을 찾은 경우\n",
        "        if j == M:\n",
        "            print(\"#pos = \" + str(i-j)+\", pattern = \", pat)\n",
        "            # 이전 인덱스의 lps값을 참조하여 계속 검색\n",
        "            j = lps[j-1]\n",
        "\n",
        "def computeLPS(pat, lps):\n",
        "    leng = 0  # length of the previous longest prefix suffix\n",
        "\n",
        "    # 항상 lps[0]==0이므로 while문은 i==1부터 시작한다.\n",
        "    i = 1\n",
        "    while i < len(pat):\n",
        "        # 이전 인덱스에서 같았다면 다음 인덱스만 비교하면 된다.\n",
        "        if pat[i] == pat[leng]:\n",
        "            leng += 1\n",
        "            lps[i] = leng\n",
        "            i += 1\n",
        "\n",
        "        else:\n",
        "            # 일치하지 않는 경우\n",
        "            \n",
        "            if leng != 0:\n",
        "                # 이전 인덱스에서는 같았으므로 leng을 줄여서 다시 검사\n",
        "                leng = lps[leng-1]\n",
        "                # 다시 검사해야 하므로 i는 증가하지 않음\n",
        "            else:\n",
        "                # 이전 인덱스에서도 같지 않았다면 lps[i]는 0 이고 i는 1 증가\n",
        "                lps[i] = 0\n",
        "                i += 1\n"
      ],
      "metadata": {
        "id": "QXCxXl2bXYue"
      },
      "execution_count": 9,
      "outputs": []
    },
    {
      "cell_type": "code",
      "source": [
        "for pat in S:\n",
        "    KMPSearch(pat, P)"
      ],
      "metadata": {
        "colab": {
          "base_uri": "https://localhost:8080/"
        },
        "id": "b4Yk5xaFXYwh",
        "outputId": "ad44af34-3080-40eb-abd5-1b9790bc6381"
      },
      "execution_count": 10,
      "outputs": [
        {
          "output_type": "stream",
          "name": "stdout",
          "text": [
            "#pos = 6, pattern =  aabbcc\n",
            "#pos = 0, pattern =  aaa\n",
            "#pos = 1, pattern =  aaa\n",
            "#pos = 1, pattern =  aaabb\n",
            "#pos = 3, pattern =  abb\n",
            "#pos = 7, pattern =  abb\n",
            "#pos = 0, pattern =  aaaabb\n",
            "#pos = 8, pattern =  bbcc\n",
            "#pos = 6, pattern =  aabbccdd\n",
            "#pos = 9, pattern =  bcc\n"
          ]
        }
      ]
    },
    {
      "cell_type": "code",
      "source": [
        "# 3번 문제 예시 출력\n",
        "'''\n",
        "  #pos = 0, pattern = aaa\n",
        "  #pos = 1, pattern = aaa\n",
        "  #pos = 1, pattern = aaabb\n",
        "  #pos = 3, pattern = abb\n",
        "  #pos = 0, pattern = aaaabb\n",
        "  #pos = 7, pattern = abb\n",
        "  #pos = 8, pattern = bbcc\n",
        "  #pos = 9, pattern = bcc\n",
        "  #pos = 6, pattern = aabbcc\n",
        "  #pos = 6, pattern = aabbccdd\n",
        "'''"
      ],
      "metadata": {
        "id": "opiGtfGW-4G4"
      },
      "execution_count": null,
      "outputs": []
    }
  ]
}