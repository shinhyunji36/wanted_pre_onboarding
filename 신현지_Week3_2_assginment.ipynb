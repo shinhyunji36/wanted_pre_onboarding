{
  "cells": [
    {
      "cell_type": "markdown",
      "metadata": {
        "id": "ugGR7pnI4WSe"
      },
      "source": [
        "# Week3_2 Assignment\n",
        "\n",
        "## [BASIC](#Basic) \n",
        "- 한국어 코퍼스를 로드해 **WordPiece Tokenzier를 학습**시킬 수 있다.\n",
        "- 학습된 모델을 로드해 **encoding과 decoding을 수행**할 수 있다. \n",
        "\n",
        "\n",
        "\n",
        "### Reference\n",
        "- [BertWordPieceTokenizer 학습 소개 한국어 블로그](https://monologg.kr/2020/04/27/wordpiece-vocab/)\n",
        "- [huggingface python train tutorial](https://github.com/huggingface/tokenizers/blob/master/bindings/python/examples/train_bert_wordpiece.py)"
      ]
    },
    {
      "cell_type": "code",
      "execution_count": 1,
      "metadata": {
        "ExecuteTime": {
          "end_time": "2022-02-08T13:02:24.193088Z",
          "start_time": "2022-02-08T13:02:23.939474Z"
        },
        "id": "HlEy3xfY4WSh"
      },
      "outputs": [],
      "source": [
        "import os \n",
        "import sys\n",
        "import pandas as pd\n",
        "import numpy as np"
      ]
    },
    {
      "cell_type": "code",
      "execution_count": 2,
      "metadata": {
        "ExecuteTime": {
          "end_time": "2022-02-08T12:20:56.576336Z",
          "start_time": "2022-02-08T12:20:56.574697Z"
        },
        "id": "cBrr7-gt4jnf",
        "colab": {
          "base_uri": "https://localhost:8080/"
        },
        "outputId": "957066a7-3366-4190-8257-9ba8ec062eca"
      },
      "outputs": [
        {
          "output_type": "stream",
          "name": "stdout",
          "text": [
            "Collecting tokenizers\n",
            "  Downloading tokenizers-0.11.6-cp37-cp37m-manylinux_2_12_x86_64.manylinux2010_x86_64.whl (6.5 MB)\n",
            "\u001b[K     |████████████████████████████████| 6.5 MB 9.4 MB/s \n",
            "\u001b[?25hInstalling collected packages: tokenizers\n",
            "Successfully installed tokenizers-0.11.6\n"
          ]
        }
      ],
      "source": [
        "!pip install tokenizers"
      ]
    },
    {
      "cell_type": "code",
      "execution_count": 3,
      "metadata": {
        "ExecuteTime": {
          "end_time": "2022-02-08T13:03:10.552879Z",
          "start_time": "2022-02-08T13:03:09.944672Z"
        },
        "id": "6mC9lhsJ4WSh"
      },
      "outputs": [],
      "source": [
        "import torch\n",
        "from tokenizers import BertWordPieceTokenizer"
      ]
    },
    {
      "cell_type": "code",
      "execution_count": 4,
      "metadata": {
        "ExecuteTime": {
          "end_time": "2022-02-08T13:03:11.318888Z",
          "start_time": "2022-02-08T13:03:11.314522Z"
        },
        "id": "17g7UZ5g4WSi"
      },
      "outputs": [],
      "source": [
        "# seed\n",
        "seed = 7777\n",
        "torch.manual_seed(seed)\n",
        "torch.cuda.manual_seed_all(seed)"
      ]
    },
    {
      "cell_type": "code",
      "execution_count": 5,
      "metadata": {
        "ExecuteTime": {
          "end_time": "2022-02-08T13:03:12.552228Z",
          "start_time": "2022-02-08T13:03:12.517904Z"
        },
        "id": "v3UlC7Jn4WSi",
        "colab": {
          "base_uri": "https://localhost:8080/"
        },
        "outputId": "9597b916-d62e-479e-816c-ab3dc6632e01"
      },
      "outputs": [
        {
          "output_type": "stream",
          "name": "stdout",
          "text": [
            "# available GPUs : 1\n",
            "GPU name : Tesla K80\n",
            "cuda\n"
          ]
        }
      ],
      "source": [
        "# device type\n",
        "if torch.cuda.is_available():\n",
        "    device = torch.device(\"cuda\")\n",
        "    print(f\"# available GPUs : {torch.cuda.device_count()}\")\n",
        "    print(f\"GPU name : {torch.cuda.get_device_name()}\")\n",
        "else:\n",
        "    device = torch.device(\"cpu\")\n",
        "print(device)"
      ]
    },
    {
      "cell_type": "markdown",
      "metadata": {
        "id": "BoHa39WF5AFt"
      },
      "source": [
        "## Basic"
      ]
    },
    {
      "cell_type": "markdown",
      "metadata": {
        "id": "sHs8_LU04WSj"
      },
      "source": [
        "### 데이터 다운로드\n",
        "- 내 구글 드라이브에 데이터를 다운 받은 후 코랩에 드라이브를 마운트하면 데이터를 영구적으로 사용할 수 있다. \n",
        "- [데이터 다운로드 출처](https://ratsgo.github.io/embedding/downloaddata.html)"
      ]
    },
    {
      "cell_type": "code",
      "execution_count": 6,
      "metadata": {
        "id": "4TWfB_xf5AFy",
        "colab": {
          "base_uri": "https://localhost:8080/"
        },
        "outputId": "695512e1-e324-4fbb-df31-9980fef1629d"
      },
      "outputs": [
        {
          "output_type": "stream",
          "name": "stdout",
          "text": [
            "Mounted at /content/drive\n"
          ]
        }
      ],
      "source": [
        "from google.colab import drive\n",
        "drive.mount(\"/content/drive\")"
      ]
    },
    {
      "cell_type": "code",
      "execution_count": 7,
      "metadata": {
        "id": "yPoV_wON5AF1",
        "colab": {
          "base_uri": "https://localhost:8080/"
        },
        "outputId": "cc774039-6af4-4050-de1a-6d0c3bd2a3b7"
      },
      "outputs": [
        {
          "output_type": "stream",
          "name": "stdout",
          "text": [
            "/content/drive/MyDrive/pre_onboarding\n"
          ]
        }
      ],
      "source": [
        "cd \"/content/drive/MyDrive/pre_onboarding\""
      ]
    },
    {
      "cell_type": "code",
      "execution_count": null,
      "metadata": {
        "ExecuteTime": {
          "end_time": "2022-02-08T13:05:10.693203Z",
          "start_time": "2022-02-08T13:05:05.809566Z"
        },
        "id": "4QPBJ6UZ4WSj",
        "colab": {
          "base_uri": "https://localhost:8080/"
        },
        "outputId": "f565b7cf-2ee8-4b8c-96fb-a640b84757e5"
      },
      "outputs": [
        {
          "output_type": "stream",
          "name": "stdout",
          "text": [
            "Requirement already satisfied: gdown in /usr/local/lib/python3.7/dist-packages (4.2.2)\n",
            "Requirement already satisfied: six in /usr/local/lib/python3.7/dist-packages (from gdown) (1.15.0)\n",
            "Requirement already satisfied: filelock in /usr/local/lib/python3.7/dist-packages (from gdown) (3.6.0)\n",
            "Requirement already satisfied: tqdm in /usr/local/lib/python3.7/dist-packages (from gdown) (4.63.0)\n",
            "Requirement already satisfied: beautifulsoup4 in /usr/local/lib/python3.7/dist-packages (from gdown) (4.6.3)\n",
            "Requirement already satisfied: requests[socks] in /usr/local/lib/python3.7/dist-packages (from gdown) (2.23.0)\n",
            "Requirement already satisfied: chardet<4,>=3.0.2 in /usr/local/lib/python3.7/dist-packages (from requests[socks]->gdown) (3.0.4)\n",
            "Requirement already satisfied: idna<3,>=2.5 in /usr/local/lib/python3.7/dist-packages (from requests[socks]->gdown) (2.10)\n",
            "Requirement already satisfied: urllib3!=1.25.0,!=1.25.1,<1.26,>=1.21.1 in /usr/local/lib/python3.7/dist-packages (from requests[socks]->gdown) (1.24.3)\n",
            "Requirement already satisfied: certifi>=2017.4.17 in /usr/local/lib/python3.7/dist-packages (from requests[socks]->gdown) (2021.10.8)\n",
            "Requirement already satisfied: PySocks!=1.5.7,>=1.5.6 in /usr/local/lib/python3.7/dist-packages (from requests[socks]->gdown) (1.7.1)\n"
          ]
        }
      ],
      "source": [
        "# 한국어 위키피디아 데이터 (토크나이즈되지 않은 텍스트) 로드\n",
        "!pip install gdown"
      ]
    },
    {
      "cell_type": "code",
      "source": [
        "# !gdown https://drive.google.com/u/0/uc?id=1kUecR7xO7bsHFmUI6AExtY5u2XXlObOG # acces denied : 용량 너무 커서 그런 듯. 링크 들어가서 직접 다운받고 구글 드라이브 폴더(pre_onboarding)에 옮겨놓음\n",
        "!unzip processed.zip"
      ],
      "metadata": {
        "colab": {
          "base_uri": "https://localhost:8080/"
        },
        "id": "xb6XKPgOPfMR",
        "outputId": "256fe975-18b5-424b-eb66-82a71046da30"
      },
      "execution_count": 8,
      "outputs": [
        {
          "output_type": "stream",
          "name": "stdout",
          "text": [
            "Archive:  processed.zip\n",
            "replace processed/space-correct.model? [y]es, [n]o, [A]ll, [N]one, [r]ename: y\n",
            "  inflating: processed/space-correct.model  \n",
            "replace processed/processed_korquad.txt? [y]es, [n]o, [A]ll, [N]one, [r]ename: y\n",
            "  inflating: processed/processed_korquad.txt  \n",
            "replace processed/processed_ratings_train.txt? [y]es, [n]o, [A]ll, [N]one, [r]ename: y\n",
            "  inflating: processed/processed_ratings_train.txt  \n",
            "replace processed/processed_ratings_test.txt? [y]es, [n]o, [A]ll, [N]one, [r]ename: y\n",
            "  inflating: processed/processed_ratings_test.txt  \n",
            "  inflating: processed/processed_wiki_ko.txt  y\n",
            "\n",
            "replace processed/processed_ratings.txt? [y]es, [n]o, [A]ll, [N]one, [r]ename:   inflating: processed/processed_ratings.txt  \n",
            "replace processed/corrected_ratings_corpus.txt? [y]es, [n]o, [A]ll, [N]one, [r]ename: y\n",
            "  inflating: processed/corrected_ratings_corpus.txt  \n",
            "replace processed/soyword.model? [y]es, [n]o, [A]ll, [N]one, [r]ename: y\n",
            "  inflating: processed/soyword.model  \n",
            "replace processed/processed_review_movieid.txt? [y]es, [n]o, [A]ll, [N]one, [r]ename: y\n",
            "  inflating: processed/processed_review_movieid.txt  \n",
            "replace processed/corrected_ratings_train.txt? [y]es, [n]o, [A]ll, [N]one, [r]ename: y\n",
            "  inflating: processed/corrected_ratings_train.txt  \n",
            "replace processed/corrected_ratings_test.txt? [y]es, [n]o, [A]ll, [N]one, [r]ename: "
          ]
        }
      ]
    },
    {
      "cell_type": "code",
      "execution_count": 9,
      "metadata": {
        "id": "qKjNsKAk5AF5",
        "colab": {
          "base_uri": "https://localhost:8080/"
        },
        "outputId": "bb5114a1-7443-4884-acd8-3bce8c38c1cf"
      },
      "outputs": [
        {
          "output_type": "stream",
          "name": "stdout",
          "text": [
            "My current directory : /content/drive/MyDrive/pre_onboarding\n"
          ]
        }
      ],
      "source": [
        "_CUR_DIR = os.path.abspath(os.curdir)\n",
        "print(f\"My current directory : {_CUR_DIR}\")\n",
        "_DATA_DIR = os.path.join(_CUR_DIR, \"processed\")"
      ]
    },
    {
      "cell_type": "markdown",
      "metadata": {
        "id": "FIO4LFu67z72"
      },
      "source": [
        "### 한국어 위키피디아 코퍼스로 WordPiece tokenizer 학습\n",
        "- 한국어 위키 "
      ]
    },
    {
      "cell_type": "code",
      "execution_count": 10,
      "metadata": {
        "ExecuteTime": {
          "end_time": "2022-02-08T13:07:46.216505Z",
          "start_time": "2022-02-08T13:07:41.735392Z"
        },
        "id": "xkjqztIA4WSl"
      },
      "outputs": [],
      "source": [
        "# processed_wiki_ko.txt 파일 불러오기\n",
        "\n",
        "docs = open('processed/processed_wiki_ko.txt', 'r')\n",
        "docs = docs.readlines()"
      ]
    },
    {
      "cell_type": "code",
      "execution_count": 11,
      "metadata": {
        "ExecuteTime": {
          "end_time": "2022-02-08T13:07:55.901375Z",
          "start_time": "2022-02-08T13:07:55.898177Z"
        },
        "id": "WAKB6bbt4WSl",
        "colab": {
          "base_uri": "https://localhost:8080/"
        },
        "outputId": "c3c8272e-e943-4143-b955-0ca3035c56cc"
      },
      "outputs": [
        {
          "output_type": "stream",
          "name": "stdout",
          "text": [
            "# wiki documents: 311,237\n"
          ]
        }
      ],
      "source": [
        "print(f\"# wiki documents: {len(docs):,}\")"
      ]
    },
    {
      "cell_type": "code",
      "execution_count": 12,
      "metadata": {
        "ExecuteTime": {
          "end_time": "2022-02-08T15:04:42.728698Z",
          "start_time": "2022-02-08T15:04:42.725712Z"
        },
        "id": "rsSDiCKC7z73"
      },
      "outputs": [],
      "source": [
        "# Word Piece Tokenizer 인스턴스 생성\n",
        "tokenizer = BertWordPieceTokenizer(\n",
        "    clean_text=True,\n",
        "    handle_chinese_chars=False,\n",
        "    strip_accents=False, # 악센트가 있는 character의 악센트를 제거하려면? (ex. é → e) (strip_accent와 lowercase는 함께 False 지정해줘야 한다.)\n",
        "    lowercase=False, # 한국어는 대소문자가 없는데 소문자 변환이 필요한지?\n",
        ")"
      ]
    },
    {
      "cell_type": "code",
      "execution_count": 13,
      "metadata": {
        "ExecuteTime": {
          "end_time": "2022-02-08T15:07:44.027617Z",
          "start_time": "2022-02-08T15:06:26.871651Z"
        },
        "id": "d2XCyb-R7z73"
      },
      "outputs": [],
      "source": [
        "# train\n",
        "# files: 'processed_wiki_ko.txt'\n",
        "# vocab_size: 30,000\n",
        "# min_frequency: 2\n",
        "# special_tokens = [\"[PAD]\", \"[UNK]\", \"[CLS]\", \"[SEP]\", \"[MASK]\"]\n",
        "# limit_alphabet: 1,000\n",
        "# wordpieces_prefix: '##'\n",
        "\n",
        "tokenizer.train(\n",
        "    files = 'processed/processed_wiki_ko.txt',\n",
        "    vocab_size = 30000,\n",
        "    min_frequency = 2,\n",
        "    show_progress = True,\n",
        "    special_tokens = [\"[PAD]\", \"[UNK]\", \"[CLS]\", \"[SEP]\", \"[MASK]\"],\n",
        "    limit_alphabet = 1000,\n",
        "    wordpieces_prefix = '##'\n",
        ")"
      ]
    },
    {
      "cell_type": "code",
      "execution_count": 14,
      "metadata": {
        "ExecuteTime": {
          "end_time": "2022-02-08T15:09:05.258756Z",
          "start_time": "2022-02-08T15:09:05.245393Z"
        },
        "id": "XP_TSZ4W7z74",
        "colab": {
          "base_uri": "https://localhost:8080/"
        },
        "outputId": "ca0a0236-8c78-485e-8ba1-5c5f3264d2d6"
      },
      "outputs": [
        {
          "output_type": "execute_result",
          "data": {
            "text/plain": [
              "['./wordpiece-vocab.txt']"
            ]
          },
          "metadata": {},
          "execution_count": 14
        }
      ],
      "source": [
        "tokenizer.save_model(\".\", \"wordpiece\")"
      ]
    },
    {
      "cell_type": "markdown",
      "metadata": {
        "id": "C44J9vSg7z74"
      },
      "source": [
        "### Encoding\n",
        "- 저장된 토크나이즈 파일을 로드해 `BertWordPieceTokenizer` 인스턴스를 생성하고 다음을 수행하자. \n",
        "    - 사전(vocab)의 단어 개수를 출력\n",
        "    - 문장을 토크나이징한 후 토큰 id와 토큰 string을 출력"
      ]
    },
    {
      "cell_type": "code",
      "execution_count": 15,
      "metadata": {
        "id": "ipYjhaM05AGH"
      },
      "outputs": [],
      "source": [
        "tokenizer = BertWordPieceTokenizer(\n",
        "    vocab = \"/content/drive/MyDrive/pre_onboarding/wordpiece-vocab.txt\",\n",
        "    lowercase = False,\n",
        "    strip_accents = False,\n",
        ")"
      ]
    },
    {
      "cell_type": "code",
      "execution_count": 16,
      "metadata": {
        "id": "q5MsfhF_5AGI",
        "colab": {
          "base_uri": "https://localhost:8080/"
        },
        "outputId": "fb887d92-d166-4e65-9b31-38d4eea01de6"
      },
      "outputs": [
        {
          "output_type": "execute_result",
          "data": {
            "text/plain": [
              "30000"
            ]
          },
          "metadata": {},
          "execution_count": 16
        }
      ],
      "source": [
        "# 사전 단어 개수 출력\n",
        "tokenizer.get_vocab_size()"
      ]
    },
    {
      "cell_type": "code",
      "source": [
        "tokenizer.get_vocab()"
      ],
      "metadata": {
        "colab": {
          "base_uri": "https://localhost:8080/"
        },
        "id": "Y0JqGvg1ZNJ1",
        "outputId": "56e1c811-b367-4f7a-ff08-0c78198a2d8f"
      },
      "execution_count": 17,
      "outputs": [
        {
          "output_type": "execute_result",
          "data": {
            "text/plain": [
              "{'의회는': 17340,\n",
              " '대외': 10581,\n",
              " '##iam': 7521,\n",
              " '나이': 3423,\n",
              " '서포터': 24683,\n",
              " '열두': 24444,\n",
              " '임의': 22292,\n",
              " '1주일': 28312,\n",
              " '제국을': 19503,\n",
              " '분쟁이': 29244,\n",
              " '##비로': 9949,\n",
              " '##사노': 29763,\n",
              " '##2가': 13615,\n",
              " '한민': 29104,\n",
              " '제13대': 14108,\n",
              " '강에': 20695,\n",
              " '5화': 27410,\n",
              " '플라이': 12115,\n",
              " '성적은': 23608,\n",
              " '##지역의': 15420,\n",
              " '##편으로': 14943,\n",
              " '브리트': 29474,\n",
              " '제휴': 11456,\n",
              " 'Family': 25119,\n",
              " '위험한': 10646,\n",
              " '제작되었다': 15137,\n",
              " 'Two': 21032,\n",
              " '##좌의': 26231,\n",
              " '음반을': 16448,\n",
              " '번개': 25177,\n",
              " '##드볼': 18443,\n",
              " '##파이': 8014,\n",
              " '복소수': 19810,\n",
              " '삼중': 24924,\n",
              " '한달': 24966,\n",
              " 'Bab': 12042,\n",
              " '우수학교': 18776,\n",
              " '815': 29381,\n",
              " '##eh': 27103,\n",
              " 'Christ': 6931,\n",
              " '##캐스터': 28375,\n",
              " '##되나': 21040,\n",
              " '이노우에': 13028,\n",
              " '무슬림': 11746,\n",
              " '##대학교': 2107,\n",
              " '대광': 25931,\n",
              " '마에': 9274,\n",
              " '성종': 10728,\n",
              " '역임한': 15641,\n",
              " '##2의': 13067,\n",
              " '지방에서': 16391,\n",
              " '자사': 24885,\n",
              " '올라가': 11362,\n",
              " '레오': 5850,\n",
              " '##여자대학교': 8368,\n",
              " '길이': 5030,\n",
              " '##여고': 14803,\n",
              " '출시한': 23397,\n",
              " '무대': 7572,\n",
              " '##ph': 4452,\n",
              " '전쟁에': 9531,\n",
              " '양심': 27877,\n",
              " '섬으로': 19189,\n",
              " '곳곳': 13518,\n",
              " '##70': 6151,\n",
              " '한국을': 20637,\n",
              " '##농민': 26301,\n",
              " '##추고': 22847,\n",
              " '##네이': 5841,\n",
              " '322': 24184,\n",
              " '신도비': 26077,\n",
              " '출전': 2919,\n",
              " '보통': 3148,\n",
              " '##틱': 1511,\n",
              " '비밀리에': 19574,\n",
              " '중요': 2736,\n",
              " '##츠키': 6581,\n",
              " '체력': 22558,\n",
              " '포함하는': 10363,\n",
              " '필터': 20001,\n",
              " '##경연': 25586,\n",
              " '광무': 17389,\n",
              " '##오가': 12214,\n",
              " '이식': 15180,\n",
              " '##물로': 6538,\n",
              " '첨단': 16321,\n",
              " '##태': 1075,\n",
              " '배경으로': 3470,\n",
              " '그루': 14680,\n",
              " '자바': 9441,\n",
              " '서진': 17583,\n",
              " '보이지만': 21302,\n",
              " '##fer': 7333,\n",
              " '사유리': 29894,\n",
              " '##정의': 3578,\n",
              " '캄페': 14322,\n",
              " '행진': 17040,\n",
              " '1973년': 3615,\n",
              " '오차': 28944,\n",
              " '풀백': 29102,\n",
              " '윤종': 13725,\n",
              " '행정구역이다': 17731,\n",
              " '##구가': 4718,\n",
              " '때문에': 2162,\n",
              " '느끼': 7530,\n",
              " 'in': 2390,\n",
              " '5급': 27314,\n",
              " '오다와라': 22252,\n",
              " '않으나': 17632,\n",
              " '##행의': 22096,\n",
              " '모두를': 20361,\n",
              " '투신': 26405,\n",
              " '합산': 28792,\n",
              " '꿈': 262,\n",
              " '스폰': 12944,\n",
              " '영어를': 23616,\n",
              " '강점기의': 6006,\n",
              " '청문': 29842,\n",
              " '다음날': 8242,\n",
              " '글로브': 13570,\n",
              " '신시': 12366,\n",
              " '역사와': 19566,\n",
              " '시위': 7976,\n",
              " '차지했다': 7394,\n",
              " '우디': 20418,\n",
              " '이송': 20959,\n",
              " '메이어': 27845,\n",
              " 'Os': 25812,\n",
              " '문산': 28942,\n",
              " '##르는': 2670,\n",
              " '코호몰': 25575,\n",
              " '##der': 11922,\n",
              " '탄': 872,\n",
              " '제38회': 27915,\n",
              " '##azz': 23359,\n",
              " '##리니': 16093,\n",
              " '##니언': 19770,\n",
              " '신규': 10800,\n",
              " '##宗': 1865,\n",
              " '대통령을': 15880,\n",
              " '에스토': 10863,\n",
              " '시호': 18441,\n",
              " '강동구': 23604,\n",
              " '윤성': 20892,\n",
              " 'point': 25341,\n",
              " '이론에서': 28030,\n",
              " '오스트레일리아': 4576,\n",
              " '고인': 14109,\n",
              " '제시카': 20733,\n",
              " '서': 565,\n",
              " '사진이': 27781,\n",
              " '개념이다': 22234,\n",
              " '수유': 25973,\n",
              " '챔피언쉽': 29599,\n",
              " 'TOK': 20341,\n",
              " '힘으로': 19385,\n",
              " '것이며': 7763,\n",
              " '##y': 1270,\n",
              " '달러를': 15470,\n",
              " '##천초등학교': 18394,\n",
              " 'ON': 11860,\n",
              " '##팅을': 27522,\n",
              " '6세': 14278,\n",
              " '##가라': 27301,\n",
              " '##ace': 3743,\n",
              " '룬': 425,\n",
              " 'Pan': 13704,\n",
              " '해역': 15924,\n",
              " '상원': 13567,\n",
              " '##판에': 10528,\n",
              " '##89': 16720,\n",
              " '사람들에게': 10004,\n",
              " '##지는데': 19074,\n",
              " 'Per': 7825,\n",
              " '이름에': 26131,\n",
              " 'Dec': 12965,\n",
              " '배상': 16589,\n",
              " '연상': 16710,\n",
              " '##덴': 1814,\n",
              " '##안면': 13352,\n",
              " '1868년': 16298,\n",
              " '##OS': 4158,\n",
              " '##ou': 2262,\n",
              " '##사이트': 3552,\n",
              " '##itan': 24596,\n",
              " '##측은': 18182,\n",
              " '헤': 959,\n",
              " '없음을': 27822,\n",
              " '##장비': 21329,\n",
              " '##53': 16139,\n",
              " '트럼프': 24953,\n",
              " '##비츠': 21882,\n",
              " 'Network': 20859,\n",
              " '어촌': 20820,\n",
              " '제니': 10151,\n",
              " '1855년': 27922,\n",
              " '에글린턴': 20505,\n",
              " '##한다': 1992,\n",
              " '중요하다': 17366,\n",
              " '올랭': 22204,\n",
              " '##어진': 2341,\n",
              " '손실': 20710,\n",
              " 'Pier': 26983,\n",
              " '참여했다': 10012,\n",
              " '##ament': 18943,\n",
              " '##로미터': 12053,\n",
              " '3남': 19195,\n",
              " '작용을': 20082,\n",
              " '예컨대': 22829,\n",
              " '말미암아': 24225,\n",
              " '##지능': 18284,\n",
              " '##let': 10194,\n",
              " '개인정보': 26975,\n",
              " '걸린': 16625,\n",
              " '공원': 6375,\n",
              " '양식': 11447,\n",
              " '록히드': 28398,\n",
              " '선': 567,\n",
              " '##속을': 17155,\n",
              " '롤': 415,\n",
              " '9대': 15110,\n",
              " '액티브': 26642,\n",
              " '고모': 17900,\n",
              " '인증을': 25000,\n",
              " '앨라배마': 26618,\n",
              " '그것의': 25315,\n",
              " '추리': 16952,\n",
              " 'kr': 16319,\n",
              " 'Albert': 26433,\n",
              " '로큰롤': 24150,\n",
              " '포스트시즌': 22221,\n",
              " 'wh': 10389,\n",
              " '텍사스주': 17968,\n",
              " '이영호': 24498,\n",
              " '해체': 5116,\n",
              " '##3동': 5438,\n",
              " '지불': 10429,\n",
              " '##위원회가': 11444,\n",
              " '제26': 15614,\n",
              " '해군은': 23540,\n",
              " '동명': 12483,\n",
              " '인스': 25974,\n",
              " '생겨': 6494,\n",
              " '키트': 22004,\n",
              " '##되거나': 10569,\n",
              " '7번': 13537,\n",
              " '##현주': 28350,\n",
              " '##일반': 16982,\n",
              " '##VV': 28405,\n",
              " '쉬': 597,\n",
              " '사실을': 5192,\n",
              " '##했으며': 2607,\n",
              " '##잔': 1658,\n",
              " '일렉': 10679,\n",
              " '전지': 15511,\n",
              " '교회를': 21823,\n",
              " '##파워': 29630,\n",
              " '살': 555,\n",
              " '탈삼진': 15182,\n",
              " '##당은': 5846,\n",
              " '##테레': 23189,\n",
              " '양파': 27440,\n",
              " '구금': 27318,\n",
              " '대웅': 13690,\n",
              " '드미트리': 24682,\n",
              " '##디가': 14076,\n",
              " '동명의': 16432,\n",
              " '##왕은': 10208,\n",
              " '##wan': 28319,\n",
              " '초에': 10286,\n",
              " '운송': 10545,\n",
              " '##욕': 1514,\n",
              " '마쓰다이라': 9857,\n",
              " '화순군': 18826,\n",
              " '우호': 17286,\n",
              " '쓰지': 15759,\n",
              " '##해지고': 12156,\n",
              " '##하라': 2973,\n",
              " '##IL': 10447,\n",
              " '전해진다': 12241,\n",
              " '상당구': 24434,\n",
              " 'MSL': 13023,\n",
              " '불리며': 12031,\n",
              " '텍스트': 13875,\n",
              " '##프트': 2401,\n",
              " '동래구': 25716,\n",
              " '출범': 7128,\n",
              " '##운을': 22097,\n",
              " '서경': 9357,\n",
              " '##기에는': 7601,\n",
              " '김학': 16544,\n",
              " '##관한': 24199,\n",
              " '##성과': 3828,\n",
              " '특별한': 6348,\n",
              " '##코리아': 13271,\n",
              " '##벤션': 18720,\n",
              " '##ality': 26308,\n",
              " '선거가': 29237,\n",
              " '울진': 21965,\n",
              " '오리': 3773,\n",
              " '##연히': 7440,\n",
              " 'NP': 17355,\n",
              " '##학부': 5382,\n",
              " '1993년에': 21545,\n",
              " '##그마': 21676,\n",
              " '181': 4773,\n",
              " '얼굴을': 15359,\n",
              " '간격으로': 22513,\n",
              " '덴버': 24108,\n",
              " '아나운': 5127,\n",
              " '##기독교': 16056,\n",
              " '서브': 8115,\n",
              " '##트레': 21897,\n",
              " '##oint': 12041,\n",
              " '##에쓰': 14215,\n",
              " '##이면서': 16561,\n",
              " '1862년': 21070,\n",
              " 'Dest': 28849,\n",
              " '있': 724,\n",
              " '##으며': 1997,\n",
              " 'White': 14377,\n",
              " '##종은': 7133,\n",
              " '##로가': 5221,\n",
              " '스탈린': 15724,\n",
              " '##ger': 14260,\n",
              " '집으로': 12835,\n",
              " '##음의': 13762,\n",
              " '오브': 3443,\n",
              " '대천': 27268,\n",
              " '3분': 14900,\n",
              " '아인': 12991,\n",
              " '셜': 579,\n",
              " 'Fly': 19071,\n",
              " '##멘': 1771,\n",
              " '57': 3115,\n",
              " '##서부': 17364,\n",
              " '##영': 1284,\n",
              " '이명': 5912,\n",
              " '비율이': 19830,\n",
              " '표현한': 20439,\n",
              " '미스': 7136,\n",
              " '기관총': 15811,\n",
              " '##나가는': 18005,\n",
              " 'Ob': 24004,\n",
              " 'Army': 24891,\n",
              " '##키치': 23652,\n",
              " '원칙적으로': 25688,\n",
              " '부족한': 15975,\n",
              " '받는다': 7460,\n",
              " '구례군': 26157,\n",
              " '##ction': 4456,\n",
              " '##ysis': 24001,\n",
              " '표절': 26364,\n",
              " '마태': 26944,\n",
              " '이어져': 12204,\n",
              " '이르는': 7139,\n",
              " '##치고': 3986,\n",
              " '##원자': 17135,\n",
              " '기대': 7281,\n",
              " '신오': 27458,\n",
              " '맡아': 7733,\n",
              " '받을': 7436,\n",
              " '리즈': 17827,\n",
              " '1500m': 15874,\n",
              " '##술': 1256,\n",
              " '제7화': 27503,\n",
              " 'Nav': 17186,\n",
              " 'Men': 18434,\n",
              " 'MO': 12686,\n",
              " '##ce': 2701,\n",
              " '퍼시픽': 10759,\n",
              " '##장한': 12434,\n",
              " '##amily': 18105,\n",
              " '마요': 18531,\n",
              " '총을': 23132,\n",
              " '가라': 9099,\n",
              " '상담': 14472,\n",
              " '평일': 5888,\n",
              " '제28': 18563,\n",
              " 'sur': 24083,\n",
              " '친구인': 20334,\n",
              " '항해': 11103,\n",
              " '목표는': 19281,\n",
              " '##공산당': 13316,\n",
              " '주자': 17274,\n",
              " 'Cour': 23006,\n",
              " '열도': 28857,\n",
              " '##환의': 14199,\n",
              " '이': 715,\n",
              " '마모': 21322,\n",
              " '단일': 6406,\n",
              " '##배마': 25663,\n",
              " '2017': 2863,\n",
              " '발차': 28091,\n",
              " '공직선거': 27293,\n",
              " '##벽': 1634,\n",
              " '프로야구': 17183,\n",
              " '정착': 5662,\n",
              " '마침내': 8110,\n",
              " '다룬': 11768,\n",
              " '경우의': 27365,\n",
              " 'SF': 6803,\n",
              " '##wood': 19872,\n",
              " '289': 20393,\n",
              " '절충': 29190,\n",
              " '##브라더스': 24122,\n",
              " '용어를': 18779,\n",
              " '에스페': 16521,\n",
              " '임해': 29536,\n",
              " '##이션': 2275,\n",
              " '작센': 12902,\n",
              " '##경궁': 28404,\n",
              " '무엇을': 22470,\n",
              " '##소로': 5477,\n",
              " '미국에서는': 16488,\n",
              " '##정로': 24549,\n",
              " '밀양시': 18988,\n",
              " '수상한': 12574,\n",
              " '##iki': 21836,\n",
              " '##레의': 12837,\n",
              " '극우': 22491,\n",
              " '3km': 23486,\n",
              " '186': 3079,\n",
              " '마이니치': 19495,\n",
              " '##시네마': 28275,\n",
              " '##수석': 20077,\n",
              " '않았을': 25130,\n",
              " '##39': 11570,\n",
              " '노부나가': 15079,\n",
              " '##촌면': 14286,\n",
              " 'MPEG': 26508,\n",
              " '줄리아': 16345,\n",
              " 'BL': 11293,\n",
              " '섬에': 11530,\n",
              " '아나': 3616,\n",
              " '불구하고': 4260,\n",
              " '##리며': 9885,\n",
              " '바이올린': 10864,\n",
              " '마르티': 17696,\n",
              " '##림을': 12708,\n",
              " '2001': 3379,\n",
              " '칙': 826,\n",
              " '개념으로': 22046,\n",
              " '##스럽게': 8527,\n",
              " 'Inst': 5864,\n",
              " '##극을': 25030,\n",
              " '##mm이다': 19753,\n",
              " '##ID': 6337,\n",
              " '종류가': 18054,\n",
              " '##ound': 8284,\n",
              " '영화로': 14333,\n",
              " '##사회': 3840,\n",
              " '1편': 19844,\n",
              " '카즈': 7453,\n",
              " 'DS': 8227,\n",
              " '미개통': 22729,\n",
              " '##바키아의': 21046,\n",
              " '운행이': 21821,\n",
              " '산투스': 26731,\n",
              " '##망의': 16242,\n",
              " '##보며': 28503,\n",
              " '##III': 7156,\n",
              " '고대': 3631,\n",
              " '##되지만': 10074,\n",
              " '수익': 9572,\n",
              " '대만': 9910,\n",
              " '##너가': 21953,\n",
              " '##金': 1472,\n",
              " '엘리트': 17001,\n",
              " '즐기는': 22504,\n",
              " '##ather': 22009,\n",
              " '##문': 1053,\n",
              " '산하': 10465,\n",
              " '블러드': 22699,\n",
              " '여러번': 27603,\n",
              " '올레': 21448,\n",
              " '##궁': 1563,\n",
              " '압구': 28272,\n",
              " '##타워': 14459,\n",
              " '##회로': 13577,\n",
              " '##formation': 11901,\n",
              " '그다': 14478,\n",
              " '##봉수': 27364,\n",
              " '##민족행위': 8797,\n",
              " '극복': 10701,\n",
              " '유식': 18243,\n",
              " '##시픽': 8927,\n",
              " '김종필': 25571,\n",
              " '김영삼': 10553,\n",
              " '##어진다': 4604,\n",
              " '계획은': 13630,\n",
              " '듯': 360,\n",
              " 'HD': 5346,\n",
              " '##츠카': 16113,\n",
              " '##리안': 6542,\n",
              " '토요일': 5776,\n",
              " '텔아비': 28575,\n",
              " '##osm': 29029,\n",
              " '##켄': 1832,\n",
              " '코코': 11371,\n",
              " '짧은': 6074,\n",
              " '성이': 18807,\n",
              " '들어가': 4467,\n",
              " '##마의': 5876,\n",
              " '일종의': 10671,\n",
              " '희': 996,\n",
              " '세트': 10707,\n",
              " '##ance': 6098,\n",
              " '어워드': 6436,\n",
              " '하늘의': 17477,\n",
              " '##즈키': 4650,\n",
              " '증평군': 27975,\n",
              " '##ronic': 28488,\n",
              " '수염': 18069,\n",
              " '시라이': 25876,\n",
              " '오디오': 11082,\n",
              " '독도': 17020,\n",
              " '황도': 22522,\n",
              " 'Son': 18346,\n",
              " '호소카와': 26510,\n",
              " '##디의': 12706,\n",
              " '6개': 7962,\n",
              " '유통': 8434,\n",
              " '##동안': 3503,\n",
              " '기준이': 24812,\n",
              " '전문의': 26542,\n",
              " '##교육': 2732,\n",
              " '##챔': 1882,\n",
              " '골든디스크': 26979,\n",
              " '가는': 4734,\n",
              " '##명대학교': 23432,\n",
              " '컬러': 10188,\n",
              " '몰라': 24543,\n",
              " '품고': 17246,\n",
              " '마약': 13971,\n",
              " '##납': 1299,\n",
              " '가정': 4321,\n",
              " '정치적인': 20438,\n",
              " '것들이': 19247,\n",
              " '희극인': 19568,\n",
              " '국민당': 16839,\n",
              " '키를': 26147,\n",
              " '##엔': 1199,\n",
              " '##생활을': 11858,\n",
              " '에스토니아': 13896,\n",
              " '777': 17723,\n",
              " '1951년': 5147,\n",
              " '벨': 518,\n",
              " '도입하였다': 19220,\n",
              " '색': 560,\n",
              " '##만으로': 8914,\n",
              " '##럴드': 14064,\n",
              " '한': 944,\n",
              " '##쳤다': 3834,\n",
              " '한편으로는': 23237,\n",
              " '수령': 19152,\n",
              " '제시한': 21497,\n",
              " '피렌체': 18858,\n",
              " '서원': 12485,\n",
              " '지냈고': 19738,\n",
              " '이승만의': 25787,\n",
              " '로스앤젤레스': 5601,\n",
              " '응': 713,\n",
              " '최고위원': 24832,\n",
              " '스칸': 20661,\n",
              " '초반에': 16556,\n",
              " '##EO': 9430,\n",
              " '##코딩': 19386,\n",
              " '##등이': 8487,\n",
              " '##esch': 29170,\n",
              " '##−': 1808,\n",
              " '2000': 2953,\n",
              " 'NK': 25648,\n",
              " '색소': 24008,\n",
              " '형태가': 14069,\n",
              " '대답': 12292,\n",
              " 'gl': 16438,\n",
              " '##네임': 22946,\n",
              " '##것이': 23032,\n",
              " '담당했다': 19398,\n",
              " '임금': 7596,\n",
              " '##브나': 28429,\n",
              " '59': 3252,\n",
              " '##라쿠': 22605,\n",
              " '##갔': 1586,\n",
              " 'Ch': 2501,\n",
              " '착한': 17596,\n",
              " '##복지': 5218,\n",
              " '국유': 12534,\n",
              " '봉화군': 23129,\n",
              " '##oidea': 24805,\n",
              " '체코의': 16262,\n",
              " '히틀러': 8486,\n",
              " '생생': 19720,\n",
              " '##아': 1278,\n",
              " '##뱅': 1754,\n",
              " '##해석': 24310,\n",
              " '사찰': 9748,\n",
              " 'USB': 16413,\n",
              " '여주시': 24589,\n",
              " '켄트': 29480,\n",
              " '##iano': 17856,\n",
              " '타는': 21799,\n",
              " '국립중앙박물관': 21110,\n",
              " '##파스': 25167,\n",
              " '방어': 4482,\n",
              " '##떨': 1800,\n",
              " '요소': 6850,\n",
              " '##저스': 7815,\n",
              " '##ept': 12739,\n",
              " '승부차기': 22914,\n",
              " '구원': 9400,\n",
              " '1년': 3533,\n",
              " '제공할': 29263,\n",
              " 'OF': 13703,\n",
              " '파트너': 8725,\n",
              " '조선로동': 18454,\n",
              " '감독은': 11154,\n",
              " '조지': 3217,\n",
              " '##철도가': 13197,\n",
              " '부다': 15516,\n",
              " '##혈': 1417,\n",
              " '##정책을': 20383,\n",
              " '261': 20475,\n",
              " '아이돌': 4777,\n",
              " '인체': 27129,\n",
              " '프렌': 12982,\n",
              " '##NE': 21404,\n",
              " '외': 681,\n",
              " '##트리': 3635,\n",
              " '라리가의': 20549,\n",
              " '##반에': 19393,\n",
              " '탐정': 12383,\n",
              " '지자': 23280,\n",
              " '카렌': 24508,\n",
              " '1남': 24468,\n",
              " '주상': 25603,\n",
              " '##난': 1204,\n",
              " '##oug': 12003,\n",
              " '98': 3512,\n",
              " '노조': 12806,\n",
              " '사전에': 20445,\n",
              " '이론이': 25960,\n",
              " '##노부': 12870,\n",
              " '접한다': 13176,\n",
              " '##하자': 2830,\n",
              " '##erv': 6691,\n",
              " '##권과': 10914,\n",
              " '유교': 14748,\n",
              " '##큐슈': 17472,\n",
              " '교리': 15682,\n",
              " '##장에': 3275,\n",
              " '못했다': 4508,\n",
              " '표지': 12449,\n",
              " '복귀하였다': 18027,\n",
              " '따뜻한': 17100,\n",
              " '##당하였다': 15355,\n",
              " '##부면': 29445,\n",
              " '##빈의': 20636,\n",
              " '##ua': 17182,\n",
              " '##된': 1205,\n",
              " '인물의': 25668,\n",
              " '라벨': 27935,\n",
              " '##국장': 6553,\n",
              " '디젤': 9046,\n",
              " '문희': 22362,\n",
              " '##ham': 13404,\n",
              " '큼': 865,\n",
              " '##og': 2723,\n",
              " '원의': 20674,\n",
              " '##말라': 14364,\n",
              " '기록하며': 10489,\n",
              " '맞추': 11602,\n",
              " '효율적으로': 23918,\n",
              " '풀': 930,\n",
              " 'TR': 9854,\n",
              " 'inst': 23112,\n",
              " '##프랑스': 20083,\n",
              " 'Amer': 7485,\n",
              " '##ir': 2379,\n",
              " '한나라당': 4584,\n",
              " '조정': 4684,\n",
              " '5개월': 25854,\n",
              " '발표하여': 25092,\n",
              " '신인': 3789,\n",
              " '##ev': 6350,\n",
              " '경기가': 9761,\n",
              " 'vol': 12881,\n",
              " '알렉스': 14372,\n",
              " '아니라는': 20898,\n",
              " '##사는': 2896,\n",
              " '리차드': 22501,\n",
              " '##uch': 12599,\n",
              " 'Division': 23688,\n",
              " '패미컴': 29833,\n",
              " '여름': 3645,\n",
              " '개인적': 23375,\n",
              " '끝까지': 12758,\n",
              " '삼척시': 21520,\n",
              " '칠': 828,\n",
              " '미치': 6184,\n",
              " '##osa': 12614,\n",
              " 'Thomas': 15547,\n",
              " 'B형': 22322,\n",
              " '현대적인': 28324,\n",
              " '은퇴를': 17239,\n",
              " '제25': 14550,\n",
              " '3할': 22574,\n",
              " '페르미': 29824,\n",
              " '장학': 13088,\n",
              " '낭독': 17897,\n",
              " '탑승': 9614,\n",
              " '체육': 5199,\n",
              " '전한의': 20700,\n",
              " '추첨': 17326,\n",
              " '겪고': 22957,\n",
              " '##러드': 11802,\n",
              " '##왔고': 13927,\n",
              " '배제': 13538,\n",
              " '본거': 18423,\n",
              " '하동군': 18857,\n",
              " '영미': 23780,\n",
              " '동구의': 28939,\n",
              " '##입': 1475,\n",
              " '베트남의': 11278,\n",
              " '색의': 21103,\n",
              " '임진왜란': 7391,\n",
              " '제프': 11828,\n",
              " '외야': 20057,\n",
              " '8강전': 20151,\n",
              " '##전국': 27774,\n",
              " '##NG': 15154,\n",
              " '부풀': 26783,\n",
              " '##멜': 1888,\n",
              " '##흐': 1661,\n",
              " '사카이': 11586,\n",
              " '야마다': 11968,\n",
              " '인치': 25948,\n",
              " 'Div': 13532,\n",
              " '희귀': 15885,\n",
              " '##리아스': 22936,\n",
              " '홀': 974,\n",
              " '재': 734,\n",
              " '겨울에': 27063,\n",
              " 'Cha': 25375,\n",
              " '올랭피크': 23420,\n",
              " '31일': 2727,\n",
              " '주연으로': 14822,\n",
              " '13일에': 16659,\n",
              " '펼': 920,\n",
              " '다쓰': 15596,\n",
              " '시나리오': 7161,\n",
              " 'a': 59,\n",
              " '패전': 16377,\n",
              " '아인슈타인': 29611,\n",
              " 'und': 11059,\n",
              " 'Econ': 20386,\n",
              " '점령하고': 21502,\n",
              " '오페라': 6484,\n",
              " '대사헌': 22895,\n",
              " '왕위': 11632,\n",
              " '익산': 13722,\n",
              " '##작가': 7853,\n",
              " '만주': 5858,\n",
              " '장안': 9834,\n",
              " '##소수': 8536,\n",
              " '도쿄': 2520,\n",
              " '여겼다': 25577,\n",
              " 'Group': 13136,\n",
              " '##팀에': 25313,\n",
              " '지방자치단체': 19335,\n",
              " '남이': 28908,\n",
              " '해제': 7323,\n",
              " '엠블': 25386,\n",
              " '특징': 3404,\n",
              " '심지어': 11604,\n",
              " '판사': 10398,\n",
              " '은신': 24963,\n",
              " '공식': 2303,\n",
              " 'Design': 19470,\n",
              " '흡혈': 23125,\n",
              " '지위에': 24662,\n",
              " '730': 27982,\n",
              " '열람': 29677,\n",
              " '##분해': 24845,\n",
              " '##이스트': 25727,\n",
              " '스키': 6450,\n",
              " '빌헬름': 10144,\n",
              " '창고': 22540,\n",
              " '써니': 28970,\n",
              " '##료로': 7471,\n",
              " 'Tor': 17305,\n",
              " '아파트': 7606,\n",
              " '발언을': 17760,\n",
              " '비서': 9486,\n",
              " '95': 3421,\n",
              " '망원': 9682,\n",
              " '##5': 1221,\n",
              " '##ift': 10906,\n",
              " '시범': 8500,\n",
              " 'Games': 26118,\n",
              " '보수당': 18611,\n",
              " '자세한': 13593,\n",
              " '##길을': 15096,\n",
              " '다나카': 11550,\n",
              " '크루': 7004,\n",
              " '부정적인': 15800,\n",
              " '##셀러': 21253,\n",
              " '죽이고': 14194,\n",
              " '임실군': 23777,\n",
              " '##가시': 5418,\n",
              " '##서트': 4434,\n",
              " '##행위': 5686,\n",
              " '않게': 7906,\n",
              " '신화의': 13619,\n",
              " '##교통공사': 20223,\n",
              " '뒤에': 5031,\n",
              " '투': 894,\n",
              " '##다고': 2649,\n",
              " '레온': 15694,\n",
              " '##랑이': 10064,\n",
              " '##ca': 16283,\n",
              " '게임의': 9540,\n",
              " '##서치': 17361,\n",
              " '##교와': 21366,\n",
              " '시즌': 2234,\n",
              " '신안': 16036,\n",
              " 'Education': 27722,\n",
              " '인지': 8682,\n",
              " '##소서': 23477,\n",
              " '이용하여': 5082,\n",
              " '##제의': 3177,\n",
              " '오와': 20177,\n",
              " '이창호': 25259,\n",
              " 'CBS': 10535,\n",
              " '공으로': 22857,\n",
              " '##시스': 5323,\n",
              " '제국': 2913,\n",
              " '##떤': 1837,\n",
              " '##마스': 4428,\n",
              " '리에': 12759,\n",
              " '사과': 9996,\n",
              " '##트에서': 12931,\n",
              " '체크': 16677,\n",
              " '판본': 26577,\n",
              " '패하여': 27130,\n",
              " '복종': 29018,\n",
              " '플랑크': 27221,\n",
              " '##ur': 2122,\n",
              " '친일인명사전': 9656,\n",
              " '##렸다는': 27547,\n",
              " '본상': 15271,\n",
              " '##위원을': 21444,\n",
              " '유역': 26360,\n",
              " '났': 274,\n",
              " '전적으로': 26625,\n",
              " '유': 703,\n",
              " '##z': 1507,\n",
              " '##시청': 7276,\n",
              " 'YTN': 19371,\n",
              " '교과서': 24758,\n",
              " '피쳐링': 29125,\n",
              " '그해': 5766,\n",
              " '##등': 1207,\n",
              " '##6명': 8963,\n",
              " '수하': 26221,\n",
              " '##무사': 29727,\n",
              " '##카드를': 28021,\n",
              " '37': 2685,\n",
              " '객': 201,\n",
              " '##정책과': 24691,\n",
              " '극락': 19697,\n",
              " '크': 862,\n",
              " 'Google': 28932,\n",
              " '소속의': 10035,\n",
              " '##경찰서': 7882,\n",
              " '결': 215,\n",
              " '1인': 7476,\n",
              " '온': 671,\n",
              " '##카즈': 17050,\n",
              " '명지': 15943,\n",
              " '또는': 2181,\n",
              " '##하에서': 11621,\n",
              " 'Sem': 20928,\n",
              " '1호': 8044,\n",
              " '넘어서': 21781,\n",
              " '2005년에는': 26567,\n",
              " '라오': 15061,\n",
              " '##縣': 1646,\n",
              " '챔피언십': 5533,\n",
              " '내린다': 25057,\n",
              " '법적': 11705,\n",
              " '##내지': 18503,\n",
              " '번갈': 26375,\n",
              " '##대장': 5787,\n",
              " '알바니아': 11848,\n",
              " '자유민주당': 10182,\n",
              " '양구': 19309,\n",
              " '효과': 3843,\n",
              " '어항': 12520,\n",
              " '민족문제연구소의': 24504,\n",
              " '기병': 8883,\n",
              " '자유를': 12062,\n",
              " '오성': 23902,\n",
              " '라이온즈': 11522,\n",
              " '호국': 26865,\n",
              " '영원히': 19173,\n",
              " '장소': 4201,\n",
              " '아니었다': 13079,\n",
              " '일기': 12006,\n",
              " '크리': 7952,\n",
              " '박탈': 14941,\n",
              " '파악': 7688,\n",
              " '1962년': 4128,\n",
              " '##미로': 15033,\n",
              " '사와': 12635,\n",
              " '이시': 4106,\n",
              " '##지기도': 12462,\n",
              " '화석': 11813,\n",
              " '무기': 5148,\n",
              " '테헤': 20245,\n",
              " '우아': 18746,\n",
              " '두려워': 11703,\n",
              " '국왕': 4892,\n",
              " '않다는': 25513,\n",
              " '##입상': 20543,\n",
              " '##명칭': 19933,\n",
              " '규모의': 8834,\n",
              " '산의': 18265,\n",
              " '피난': 12283,\n",
              " '어도비': 27128,\n",
              " '조선총독': 6976,\n",
              " '1869년': 19993,\n",
              " '윤원': 24400,\n",
              " '함경북도': 19807,\n",
              " '까': 256,\n",
              " '꼬마': 13613,\n",
              " '총대주교': 16286,\n",
              " '이소': 9642,\n",
              " '##료의': 27741,\n",
              " '구축': 4867,\n",
              " '보자': 23722,\n",
              " '7기': 24678,\n",
              " '##루프': 25520,\n",
              " 'line': 19833,\n",
              " '모리오카': 26946,\n",
              " '슬라브': 20653,\n",
              " '##밴': 1376,\n",
              " '노르': 3908,\n",
              " 'France': 22487,\n",
              " '실제': 3862,\n",
              " '연한': 22678,\n",
              " '##문에서': 27232,\n",
              " '부에노스': 19410,\n",
              " '베오그라드': 28594,\n",
              " '키에': 29623,\n",
              " '말부터': 24085,\n",
              " '의성군': 17343,\n",
              " '##학자이다': 14196,\n",
              " '스튜': 4102,\n",
              " '리브': 24246,\n",
              " '1루': 10739,\n",
              " '##국민': 3448,\n",
              " '메인': 5388,\n",
              " '히라': 10104,\n",
              " '봉화': 11769,\n",
              " '동영상': 11501,\n",
              " '##uth': 12024,\n",
              " '부장판사': 25927,\n",
              " '키릴': 22604,\n",
              " '##짓': 1790,\n",
              " '##무트': 21266,\n",
              " '##원면': 26335,\n",
              " '행위를': 10872,\n",
              " '수습': 16182,\n",
              " '금': 249,\n",
              " '승리': 3243,\n",
              " '탐구': 18780,\n",
              " '마켓': 25453,\n",
              " '##되면': 7122,\n",
              " '##몬': 1675,\n",
              " '2m': 21947,\n",
              " 'AW': 26373,\n",
              " '투표를': 19715,\n",
              " '보루시아': 19820,\n",
              " '##경은': 9480,\n",
              " '경에': 22714,\n",
              " '러셀': 14225,\n",
              " '455': 27331,\n",
              " '퍼포': 14536,\n",
              " '##ital': 4831,\n",
              " '##포가': 16087,\n",
              " '정치': 2245,\n",
              " '데이터가': 29402,\n",
              " '에어': 3891,\n",
              " 'Gall': 23104,\n",
              " '증상이': 25934,\n",
              " '콘스탄': 6836,\n",
              " '##필드': 6489,\n",
              " '광고': 4999,\n",
              " ...}"
            ]
          },
          "metadata": {},
          "execution_count": 17
        }
      ]
    },
    {
      "cell_type": "code",
      "execution_count": 18,
      "metadata": {
        "id": "Yp9kVECa5AGJ",
        "colab": {
          "base_uri": "https://localhost:8080/"
        },
        "outputId": "c306e7fe-66ae-4dba-d669-6dddf0efadeb"
      },
      "outputs": [
        {
          "output_type": "stream",
          "name": "stdout",
          "text": [
            "[2, 7929, 20936, 16, 509, 3435, 5631, 2842, 5821, 16, 3]\n",
            "['[CLS]', '안녕', '##하세요', '.', '버', '##트를', '사용한', '모델', '##입니다', '.', '[SEP]']\n"
          ]
        }
      ],
      "source": [
        "text = \"안녕하세요. 버트를 사용한 모델입니다.\"\n",
        "\n",
        "# 토크나이즈한 후 토큰의 id를 출력하라 \n",
        "token_ids = tokenizer.encode(text).ids\n",
        "print(token_ids)\n",
        "\n",
        "# 토크나이즈한 후 각 토큰(string)을 출력하라.\n",
        "tokens = tokenizer.encode(text).tokens\n",
        "print(tokens)"
      ]
    },
    {
      "cell_type": "code",
      "execution_count": 19,
      "metadata": {
        "ExecuteTime": {
          "end_time": "2022-02-08T15:12:06.621489Z",
          "start_time": "2022-02-08T15:12:06.618447Z"
        },
        "id": "mzrnMuSr7z74",
        "colab": {
          "base_uri": "https://localhost:8080/"
        },
        "outputId": "51db4514-6569-4da7-92de-a9ca9c4800a3"
      },
      "outputs": [
        {
          "output_type": "stream",
          "name": "stdout",
          "text": [
            "['[CLS]', '킹', '##받', '##네', '[SEP]']\n"
          ]
        }
      ],
      "source": [
        "# 신조어를 토크나이징할 수 있는지 테스트해보자.\n",
        "text = \"킹받네\"\n",
        "tokens = tokenizer.encode(text).tokens\n",
        "print(tokens)"
      ]
    },
    {
      "cell_type": "code",
      "execution_count": 20,
      "metadata": {
        "id": "ewQ4JTbR5AGM",
        "colab": {
          "base_uri": "https://localhost:8080/"
        },
        "outputId": "1c2eef2b-15cf-4e49-a2da-75013a592c87"
      },
      "outputs": [
        {
          "output_type": "stream",
          "name": "stdout",
          "text": [
            "[2, 1, 3]\n",
            "['[CLS]', '[UNK]', '[SEP]']\n"
          ]
        }
      ],
      "source": [
        "# 사전에 없는 단어는 어떻게 토크나이즈 되는가?\n",
        "text = \"어쩔티비\"\n",
        "unknown_token_ids = tokenizer.encode(text).ids # 토큰 id\n",
        "unknown_tokens = tokenizer.encode(text).tokens # 토큰\n",
        "print(unknown_token_ids)\n",
        "print(unknown_tokens)"
      ]
    },
    {
      "cell_type": "markdown",
      "metadata": {
        "id": "bgO1JJyM5AGN"
      },
      "source": [
        "### Decoding\n",
        "- 토큰 id를 원래 문장으로 디코딩하자."
      ]
    },
    {
      "cell_type": "code",
      "execution_count": 21,
      "metadata": {
        "id": "ew4gUQ-F5AGN",
        "colab": {
          "base_uri": "https://localhost:8080/",
          "height": 35
        },
        "outputId": "2239efe4-bcfe-41d7-894b-ff983a24a521"
      },
      "outputs": [
        {
          "output_type": "execute_result",
          "data": {
            "application/vnd.google.colaboratory.intrinsic+json": {
              "type": "string"
            },
            "text/plain": [
              "'안녕하세요. 버트를 사용한 모델입니다.'"
            ]
          },
          "metadata": {},
          "execution_count": 21
        }
      ],
      "source": [
        "# 원래 문장: \"안녕하세요. 버트를 사용한 모델입니다.\"\n",
        "tokenizer.decode(token_ids)"
      ]
    },
    {
      "cell_type": "code",
      "execution_count": 22,
      "metadata": {
        "id": "F_5JG3PP5AGP",
        "colab": {
          "base_uri": "https://localhost:8080/",
          "height": 35
        },
        "outputId": "04f3afac-7226-4099-b713-c989a172fbaf"
      },
      "outputs": [
        {
          "output_type": "execute_result",
          "data": {
            "application/vnd.google.colaboratory.intrinsic+json": {
              "type": "string"
            },
            "text/plain": [
              "''"
            ]
          },
          "metadata": {},
          "execution_count": 22
        }
      ],
      "source": [
        "# 사전에 없는 단어는 어떻게 디코딩되는가?\n",
        "tokenizer.decode(unknown_token_ids)"
      ]
    }
  ],
  "metadata": {
    "accelerator": "GPU",
    "colab": {
      "name": "(3팀_신현지)Week3_2_assginment(1차 제출_최종).ipynb",
      "provenance": [],
      "collapsed_sections": []
    },
    "kernelspec": {
      "display_name": "torch",
      "language": "python",
      "name": "torch"
    },
    "language_info": {
      "codemirror_mode": {
        "name": "ipython",
        "version": 3
      },
      "file_extension": ".py",
      "mimetype": "text/x-python",
      "name": "python",
      "nbconvert_exporter": "python",
      "pygments_lexer": "ipython3",
      "version": "3.8.11"
    }
  },
  "nbformat": 4,
  "nbformat_minor": 0
}